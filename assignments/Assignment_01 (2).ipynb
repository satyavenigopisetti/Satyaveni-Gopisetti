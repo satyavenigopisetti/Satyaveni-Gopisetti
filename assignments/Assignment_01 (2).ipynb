{
 "cells": [
  {
   "cell_type": "markdown",
   "id": "548b84c2-e24f-4a12-98bb-5e7bd5ec86bd",
   "metadata": {},
   "source": [
    "# Python"
   ]
  },
  {
   "cell_type": "markdown",
   "id": "99fbfc45-ba9e-4766-8219-f5dbcacc8481",
   "metadata": {},
   "source": [
    "<a target=\"_blank\" href=\"https://colab.research.google.com/github/kgsb24/rishi-college/blob/main/assignments/Assignment_01.ipynb\">\n",
    "  <img src=\"https://colab.research.google.com/assets/colab-badge.svg\" alt=\"Open In Colab\"/>\n",
    "</a>"
   ]
  },
  {
   "cell_type": "markdown",
   "id": "07a1f870-f905-4703-8b65-12e83172133a",
   "metadata": {},
   "source": [
    "## Basic Python Fundamentals"
   ]
  },
  {
   "cell_type": "code",
   "execution_count": 1,
   "id": "502e1d87-2fdd-4588-a330-2af21268215e",
   "metadata": {},
   "outputs": [
    {
     "data": {
      "text/plain": [
       "int"
      ]
     },
     "execution_count": 1,
     "metadata": {},
     "output_type": "execute_result"
    }
   ],
   "source": [
    "# Write a Python program to declare a variable x with the value 10 and print its type.\n",
    "x=10\n",
    "type(x)"
   ]
  },
  {
   "cell_type": "code",
   "execution_count": 4,
   "id": "dae77579-4b7d-4f06-96e0-7bdfe43860d7",
   "metadata": {},
   "outputs": [
    {
     "name": "stdout",
     "output_type": "stream",
     "text": [
      "sum is: 30\n"
     ]
    }
   ],
   "source": [
    "# Write a Python program to declare three variables a = 5, b = 10, and c = 15, and print their sum.\n",
    "a=5\n",
    "b=10\n",
    "c=15\n",
    "print(\"sum is:\",a+b+c)"
   ]
  },
  {
   "cell_type": "code",
   "execution_count": 5,
   "id": "c32867b2-a615-426a-89ae-bd2793b6a4dc",
   "metadata": {},
   "outputs": [
    {
     "name": "stdout",
     "output_type": "stream",
     "text": [
      "<class 'str'>\n",
      "<class 'float'>\n"
     ]
    },
    {
     "data": {
      "text/plain": [
       "True"
      ]
     },
     "execution_count": 5,
     "metadata": {},
     "output_type": "execute_result"
    }
   ],
   "source": [
    "# Write a Python program that checks and prints the type of a variable (e.g., int, float, str, etc.).\n",
    "a=\"123\"\n",
    "print(type(a))\n",
    "b=8.0\n",
    "print(type(b))\n",
    "b.is_integer()"
   ]
  },
  {
   "cell_type": "code",
   "execution_count": 3,
   "id": "8b233e41-9d44-4869-9ead-afb3ff1c0b67",
   "metadata": {},
   "outputs": [
    {
     "name": "stdin",
     "output_type": "stream",
     "text": [
      "Enter a number: 4\n",
      "Enter another number 5\n"
     ]
    },
    {
     "name": "stdout",
     "output_type": "stream",
     "text": [
      "Addition: 9\n",
      "Subtraction: -1\n",
      "Multiplication: 20\n",
      "Division: 0.8\n"
     ]
    }
   ],
   "source": [
    "# Write a Python program to perform addition, subtraction, multiplication, and division on two numbers. (User input is required for the numbers)\n",
    "x=int(input(\"Enter a number:\"))\n",
    "y=int(input(\"Enter another number\"))\n",
    "print(\"Addition:\",x+y)\n",
    "print(\"Subtraction:\",x-y)\n",
    "print(\"Multiplication:\",x*y)\n",
    "print(\"Division:\",x/y)"
   ]
  },
  {
   "cell_type": "code",
   "execution_count": null,
   "id": "629435bd-6bfa-44de-91d9-3b2937713257",
   "metadata": {},
   "outputs": [
    {
     "name": "stdout",
     "output_type": "stream",
     "text": [
      "123\n",
      "<class 'int'>\n",
      "123.0\n",
      "<class 'float'>\n"
     ]
    }
   ],
   "source": [
    "# Write a Python program to convert a string \"123\" to an integer and a float and print the results.\n",
    "str=\"123\"\n",
    "print(type(str))\n",
    "x=int(str)\n",
    "print(x)\n",
    "print(type(x))\n",
    "y=float(str)\n",
    "print(y)\n",
    "print(type(y))"
   ]
  },
  {
   "cell_type": "code",
   "execution_count": 7,
   "id": "599421f1-51c1-4653-9d78-b007fcc6861b",
   "metadata": {},
   "outputs": [
    {
     "name": "stdin",
     "output_type": "stream",
     "text": [
      "Enter a string: Apple\n"
     ]
    },
    {
     "name": "stdout",
     "output_type": "stream",
     "text": [
      "The first character of the given string is:A\n"
     ]
    }
   ],
   "source": [
    "# Write a Python program to print the first character of a given string. (User input for the string)\n",
    "str_1=input(\"Enter a string:\")\n",
    "print(f\"The first character of the given string is:{str_1[0]}\")"
   ]
  },
  {
   "cell_type": "code",
   "execution_count": 9,
   "id": "54ee0a5d-415f-40b6-b82e-c0de12a002f9",
   "metadata": {},
   "outputs": [
    {
     "name": "stdin",
     "output_type": "stream",
     "text": [
      "Enter a string: Helloworld\n"
     ]
    },
    {
     "name": "stdout",
     "output_type": "stream",
     "text": [
      "Length of the string is:10\n"
     ]
    }
   ],
   "source": [
    "# Write a Python program to print the length of a string. (User input for the string)\n",
    "str_2=input(\"Enter a string:\")\n",
    "x=len(str_2)\n",
    "print(f\"Length of the string is:{x}\")"
   ]
  },
  {
   "cell_type": "code",
   "execution_count": 11,
   "id": "65f44c33-618e-4337-a9d1-9de888c93a0a",
   "metadata": {},
   "outputs": [
    {
     "data": {
      "text/plain": [
       "True"
      ]
     },
     "execution_count": 11,
     "metadata": {},
     "output_type": "execute_result"
    }
   ],
   "source": [
    "# Write a Python program to check if a given string contains only alphabets.\n",
    "a=\"satyaveni\"\n",
    "a.isalpha()\n"
   ]
  },
  {
   "cell_type": "code",
   "execution_count": 13,
   "id": "a6cae5bc-a5ae-4eba-9b76-495c3f91a7db",
   "metadata": {},
   "outputs": [
    {
     "data": {
      "text/plain": [
       "False"
      ]
     },
     "execution_count": 13,
     "metadata": {},
     "output_type": "execute_result"
    }
   ],
   "source": [
    "b=\"123%satya\"\n",
    "b.isalpha()"
   ]
  },
  {
   "cell_type": "code",
   "execution_count": 15,
   "id": "37463128-2b51-4860-b6bf-40d3c03fbe84",
   "metadata": {},
   "outputs": [
    {
     "name": "stdin",
     "output_type": "stream",
     "text": [
      "Enter a string: satya\n",
      "Enter another string: veni\n"
     ]
    },
    {
     "name": "stdout",
     "output_type": "stream",
     "text": [
      "concatenated string is: satyaveni\n"
     ]
    }
   ],
   "source": [
    "# Write a Python program to concatenate two strings. (User input for the strings)\n",
    "str1=input(\"Enter a string:\")\n",
    "str2=input(\"Enter another string:\")\n",
    "str_con=str1+str2\n",
    "print(\"concatenated string is:\",str_con)"
   ]
  },
  {
   "cell_type": "code",
   "execution_count": 25,
   "id": "b1c5d364-eccf-473a-b03a-ab15f3e917cf",
   "metadata": {},
   "outputs": [
    {
     "name": "stdin",
     "output_type": "stream",
     "text": [
      "Enter a string: Strawberry\n"
     ]
    },
    {
     "name": "stdout",
     "output_type": "stream",
     "text": [
      "index of the substring is: 8\n"
     ]
    }
   ],
   "source": [
    "# Write a Python program to find the index of a substring \"abc\" in a string. (User input for the string)\n",
    "fruit=input(\"Enter a string:\")\n",
    "index=fruit.find(\"ry\")\n",
    "print(\"index of the substring is:\",index)"
   ]
  },
  {
   "cell_type": "code",
   "execution_count": 27,
   "id": "cc92afd9-ba4b-4934-a79d-f26825b4efc2",
   "metadata": {},
   "outputs": [
    {
     "name": "stdin",
     "output_type": "stream",
     "text": [
      "Enter a string: Bhargavi\n"
     ]
    },
    {
     "name": "stdout",
     "output_type": "stream",
     "text": [
      "Lowercase: bhargavi\n",
      "Uppercase: BHARGAVI\n"
     ]
    }
   ],
   "source": [
    "# Write a Python program to convert a string to both uppercase and lowercase. (User input for the string)\n",
    "s=input(\"Enter a string:\")\n",
    "l=s.lower()\n",
    "print(\"Lowercase:\",l)\n",
    "u=s.upper()\n",
    "print(\"Uppercase:\",u)"
   ]
  },
  {
   "cell_type": "code",
   "execution_count": 39,
   "id": "f24f79b3-da8b-44bf-8310-c68442e86e3e",
   "metadata": {},
   "outputs": [
    {
     "name": "stdin",
     "output_type": "stream",
     "text": [
      "Enter a string: Currently i am learning an AIML course\n",
      "Enter a character: a\n"
     ]
    },
    {
     "name": "stdout",
     "output_type": "stream",
     "text": [
      "3 times a appeared in Currently i am learning an AIML course\n"
     ]
    }
   ],
   "source": [
    "# Write a Python program to count how many times a particular character appears in a string. (User input for string and character)\n",
    "Name=input(\"Enter a string:\")\n",
    "ch=input(\"Enter a character:\")\n",
    "count_ch=Name.count(ch)\n",
    "print(f\"{count_ch} times {ch} appeared in {Name}\") "
   ]
  },
  {
   "cell_type": "code",
   "execution_count": 41,
   "id": "03f14d23-bd7a-4971-85a0-21c6f7b4667e",
   "metadata": {},
   "outputs": [
    {
     "name": "stdin",
     "output_type": "stream",
     "text": [
      "Enter your name: Rambabu\n"
     ]
    },
    {
     "name": "stdout",
     "output_type": "stream",
     "text": [
      "Hello,Rambabu,Good Morning\n"
     ]
    }
   ],
   "source": [
    "# Write a Python program to take the user's name as input and print a personalized greeting. (Hello, username, Good Morning)\n",
    "name=input(\"Enter your name:\")\n",
    "print(f\"Hello,{name},Good Morning\")"
   ]
  },
  {
   "cell_type": "code",
   "execution_count": 47,
   "id": "e92ccba2-2fa2-4431-8f73-f2fcff743d86",
   "metadata": {},
   "outputs": [
    {
     "name": "stdin",
     "output_type": "stream",
     "text": [
      "Enter a number: 10\n",
      "Enter another number: 90\n"
     ]
    },
    {
     "name": "stdout",
     "output_type": "stream",
     "text": [
      "sum of the two numbers is: 100\n"
     ]
    }
   ],
   "source": [
    "# Write a Python program to take two numbers as input and print their sum.\n",
    "a=int(input(\"Enter a number:\"))\n",
    "b=int(input(\"Enter another number:\"))\n",
    "print(\"sum of the two numbers is:\",a+b)      \n"
   ]
  },
  {
   "cell_type": "code",
   "execution_count": 55,
   "id": "0563b26c-0218-47b8-9035-98beb73b0931",
   "metadata": {},
   "outputs": [
    {
     "name": "stdin",
     "output_type": "stream",
     "text": [
      "Enter name: Satyaveni\n",
      "Enter age: 19\n"
     ]
    },
    {
     "name": "stdout",
     "output_type": "stream",
     "text": [
      "Hi,My name is Satyaveni and i am 19 years old\n",
      "Hi,My name is Satyaveni and i am 19 years old\n"
     ]
    }
   ],
   "source": [
    "# Write a Python program to format and display a string containing the user's name and age. (User input required)\n",
    "name=input(\"Enter name:\")\n",
    "age=input(\"Enter age:\")\n",
    "print(\"Hi,My name is \"+name+\" and i am \"+age+\" years old\")\n",
    "print(f\"Hi,My name is {name} and i am {age} years old\")"
   ]
  },
  {
   "cell_type": "markdown",
   "id": "0bde6e5a-0415-4b06-8b5a-95fa252b34eb",
   "metadata": {},
   "source": [
    "## Control Structures (Conditionals and Loops)"
   ]
  },
  {
   "cell_type": "code",
   "execution_count": 65,
   "id": "aefff5f3-b61e-43e6-a458-7367ef1af9de",
   "metadata": {},
   "outputs": [
    {
     "name": "stdout",
     "output_type": "stream",
     "text": [
      "Given number is Negative\n"
     ]
    }
   ],
   "source": [
    "# Write a Python program that takes a number as input and checks whether it is positive, negative, or zero.\n",
    "num=-21\n",
    "if(num>0):\n",
    "    print(\"Given number is Positive\")\n",
    "elif(num<0):\n",
    "    print(\"Given number is Negative\")\n",
    "else:\n",
    "    print(\"Given number is zero\")\n"
   ]
  },
  {
   "cell_type": "code",
   "execution_count": 75,
   "id": "4dc6d14b-6d22-4348-859a-2a03f9be65f7",
   "metadata": {},
   "outputs": [
    {
     "name": "stdin",
     "output_type": "stream",
     "text": [
      "Enter 1st no.: 34\n",
      "Enter 2nd no.: -9\n",
      "Enter 3rd no.: 289\n"
     ]
    },
    {
     "name": "stdout",
     "output_type": "stream",
     "text": [
      "Maximum is: 289\n"
     ]
    }
   ],
   "source": [
    "# Write a Python program to find the maximum of three numbers. (User input for the numbers)\n",
    "a=int(input(\"Enter 1st no.:\"))\n",
    "b=int(input(\"Enter 2nd no.:\"))\n",
    "c=int(input(\"Enter 3rd no.:\"))\n",
    "d=max(a,b,c)\n",
    "print(\"Maximum is:\",d)"
   ]
  },
  {
   "cell_type": "code",
   "execution_count": 103,
   "id": "3f6d1f45-eb68-4142-89d6-510046f21879",
   "metadata": {},
   "outputs": [
    {
     "name": "stdin",
     "output_type": "stream",
     "text": [
      "Enter a year: 2025\n"
     ]
    },
    {
     "name": "stdout",
     "output_type": "stream",
     "text": [
      "Not a leap year\n"
     ]
    }
   ],
   "source": [
    "# Write a Python program to check if a year is a leap year. (User input for the year)\n",
    "year=int(input(\"Enter a year:\"))\n",
    "if(year % 4==0 or year % 400==0 and year % 100!=0):\n",
    "    print(\"Given year is a leap year\")\n",
    "else:\n",
    "    print(\"Not a leap year\")"
   ]
  },
  {
   "cell_type": "code",
   "execution_count": 19,
   "id": "b6a07105-6fa5-4f70-b64b-ebd66afc3c2b",
   "metadata": {},
   "outputs": [],
   "source": [
    "# Write a Python program to check if a number is divisible by both 3 and 5. (User input for the number)"
   ]
  },
  {
   "cell_type": "code",
   "execution_count": 20,
   "id": "d10c9005-b85d-42f9-81d0-65d149415888",
   "metadata": {},
   "outputs": [],
   "source": [
    "# Write a Python program to check if a string is a palindrome. (User input for the string)"
   ]
  },
  {
   "cell_type": "code",
   "execution_count": 21,
   "id": "82d76cdf-efc6-45c6-ab09-9d1f17b3d857",
   "metadata": {},
   "outputs": [],
   "source": [
    "# Write a Python program to print numbers from 1 to 10 using a for loop."
   ]
  },
  {
   "cell_type": "code",
   "execution_count": 22,
   "id": "d09e8994-e984-4c12-ab1e-1bfc6938a389",
   "metadata": {},
   "outputs": [],
   "source": [
    "# Write a Python program to print all even numbers from 1 to 20 using a while loop."
   ]
  },
  {
   "cell_type": "code",
   "execution_count": 23,
   "id": "c09ca878-167e-49ca-97f0-247a43c9b472",
   "metadata": {},
   "outputs": [],
   "source": [
    "# Write a Python program to print the multiplication table of a given number using a for loop. (User input for the number)"
   ]
  },
  {
   "cell_type": "code",
   "execution_count": 24,
   "id": "b72118ab-e62d-4af9-bcec-e1cc6af31b25",
   "metadata": {},
   "outputs": [],
   "source": [
    "# Write a Python program to calculate the sum of all numbers from 1 to n using a while loop. (User input for n)"
   ]
  },
  {
   "cell_type": "code",
   "execution_count": 25,
   "id": "ae93621f-11a2-40b7-97bc-3002f03ac36a",
   "metadata": {},
   "outputs": [],
   "source": [
    "# Write a Python program to calculate the factorial of a number using a while loop. (User input for the number)"
   ]
  },
  {
   "cell_type": "code",
   "execution_count": 26,
   "id": "68467ccc-d696-4ef1-84c4-164c9d87f755",
   "metadata": {},
   "outputs": [],
   "source": [
    "# Write a Python program to print the Fibonacci sequence up to n terms. (User input for n)"
   ]
  },
  {
   "cell_type": "code",
   "execution_count": 27,
   "id": "5bebd1f3-2606-4102-aa55-01cb1650f632",
   "metadata": {},
   "outputs": [],
   "source": [
    "# Write a Python program to find all the prime numbers from 1 to 100."
   ]
  },
  {
   "cell_type": "code",
   "execution_count": 28,
   "id": "0a3f894e-52ba-4c0b-9158-a70f31f4fd49",
   "metadata": {},
   "outputs": [],
   "source": [
    "# Write a Python program that breaks out of a loop when a specific condition is met (e.g., when a number greater than 50 is found)."
   ]
  },
  {
   "cell_type": "code",
   "execution_count": 29,
   "id": "499b91d0-1f1b-494f-af2b-8cc3a06d90ed",
   "metadata": {},
   "outputs": [],
   "source": [
    "# Write a Python program to skip even numbers while printing numbers from 1 to 20 using a for loop."
   ]
  },
  {
   "cell_type": "code",
   "execution_count": 30,
   "id": "f8ffed70-dfde-4262-a2fd-0d35d69b5fb1",
   "metadata": {},
   "outputs": [],
   "source": [
    "# Write a Python program to count how many times a particular character appears in a string using a for loop. (User input for string and character)"
   ]
  },
  {
   "cell_type": "code",
   "execution_count": 31,
   "id": "01f976ed-4dcd-4842-ae84-d3b5cc42d011",
   "metadata": {},
   "outputs": [],
   "source": [
    "# Write a Python program to calculate the sum of digits of a number. (User input for the number)"
   ]
  },
  {
   "cell_type": "markdown",
   "id": "fe644fae-f262-48dd-b7ff-08eb747d297e",
   "metadata": {},
   "source": [
    "## Data Structures (Lists, Tuples, Sets, Dictionaries)"
   ]
  },
  {
   "cell_type": "code",
   "execution_count": 32,
   "id": "a0333c26-8e19-4c71-9722-d32cf8625ef6",
   "metadata": {},
   "outputs": [],
   "source": [
    "# Write a Python program to create a list of integers and print the sum of the elements."
   ]
  },
  {
   "cell_type": "code",
   "execution_count": 33,
   "id": "5a23046d-80b0-4f8d-a02f-4e3d833c0443",
   "metadata": {},
   "outputs": [],
   "source": [
    "# Write a Python program to find the largest element in a list."
   ]
  },
  {
   "cell_type": "code",
   "execution_count": 34,
   "id": "9939c2d2-90fd-4e80-81bc-227c72e60e37",
   "metadata": {},
   "outputs": [],
   "source": [
    "# Write a Python program to reverse a list."
   ]
  },
  {
   "cell_type": "code",
   "execution_count": 35,
   "id": "aa287db8-057b-48d4-a6d8-18cc53eb7178",
   "metadata": {},
   "outputs": [],
   "source": [
    "# Write a Python program to remove all occurrences of a specific element from a list."
   ]
  },
  {
   "cell_type": "code",
   "execution_count": 36,
   "id": "da9ba926-0ab5-46e9-b66d-128088c3225b",
   "metadata": {},
   "outputs": [],
   "source": [
    "# Write a Python program to find the index of an element in a list."
   ]
  },
  {
   "cell_type": "code",
   "execution_count": 37,
   "id": "9601b6e4-cb90-4e1f-87b4-38ed37076e0d",
   "metadata": {},
   "outputs": [],
   "source": [
    "# Write a Python program to find if a specific element exists in a list."
   ]
  },
  {
   "cell_type": "code",
   "execution_count": 38,
   "id": "9d8e7311-81de-4da2-826c-c4dcad28ed9f",
   "metadata": {},
   "outputs": [],
   "source": [
    "# Write a Python program to remove duplicates from a list."
   ]
  },
  {
   "cell_type": "code",
   "execution_count": 39,
   "id": "09e5121b-97b3-42e4-8025-f28f3470681b",
   "metadata": {},
   "outputs": [],
   "source": [
    "# Write a Python program to count the occurrences of an element in a list."
   ]
  },
  {
   "cell_type": "code",
   "execution_count": 40,
   "id": "b774b741-e9a6-45db-8f00-e6d9b734d03a",
   "metadata": {},
   "outputs": [],
   "source": [
    "# Write a Python program to get the number of even numbers in a list."
   ]
  },
  {
   "cell_type": "code",
   "execution_count": 41,
   "id": "5ce4fd2b-ab16-4b40-9ac2-d19c244d8d96",
   "metadata": {},
   "outputs": [],
   "source": [
    "# Write a Python program to create a tuple and print it."
   ]
  },
  {
   "cell_type": "code",
   "execution_count": 42,
   "id": "5c04f880-6e96-4ef4-9f4b-df21aae76ff1",
   "metadata": {},
   "outputs": [],
   "source": [
    "# Write a Python program to convert a tuple to a list and vice versa."
   ]
  },
  {
   "cell_type": "code",
   "execution_count": 43,
   "id": "d5192acc-27f3-456e-9c72-3b276a587bf5",
   "metadata": {},
   "outputs": [],
   "source": [
    "# Write a Python program to find the maximum and minimum values in a tuple."
   ]
  },
  {
   "cell_type": "code",
   "execution_count": 44,
   "id": "43f0a340-9407-4302-af7e-4e63db578bbf",
   "metadata": {},
   "outputs": [],
   "source": [
    "# Write a Python program to unpack a tuple into variables."
   ]
  },
  {
   "cell_type": "code",
   "execution_count": 45,
   "id": "46e96e29-2157-4b9f-bb24-0bd973eada9f",
   "metadata": {},
   "outputs": [],
   "source": [
    "# Write a Python program to add an element to a set and check if an element exists in the set."
   ]
  },
  {
   "cell_type": "code",
   "execution_count": 46,
   "id": "d81a803b-fd80-403e-9ae3-680ef44a3d86",
   "metadata": {},
   "outputs": [],
   "source": [
    "# Write a Python program to create a dictionary with keys and values and print it."
   ]
  },
  {
   "cell_type": "code",
   "execution_count": 47,
   "id": "7432174b-fe75-4371-b23a-e2c5d62edb15",
   "metadata": {},
   "outputs": [],
   "source": [
    "# Write a Python program to access a dictionary value using a key."
   ]
  },
  {
   "cell_type": "code",
   "execution_count": 48,
   "id": "000b3260-d91f-41f2-9729-4b0124f2c4d2",
   "metadata": {},
   "outputs": [],
   "source": [
    "# Write a Python program to check if a key exists in a dictionary."
   ]
  },
  {
   "cell_type": "code",
   "execution_count": 49,
   "id": "c4b1a942-818e-42c1-b742-1fabe80fca6d",
   "metadata": {},
   "outputs": [],
   "source": [
    "# Write a Python program to merge two dictionaries."
   ]
  },
  {
   "cell_type": "code",
   "execution_count": 50,
   "id": "a78f1070-3ff3-436a-8391-153f019f53cd",
   "metadata": {},
   "outputs": [],
   "source": [
    "# Write a Python program to remove a key from a dictionary."
   ]
  },
  {
   "cell_type": "code",
   "execution_count": 51,
   "id": "fcba0267-8cc4-4e89-9e78-2d820916c177",
   "metadata": {},
   "outputs": [],
   "source": [
    "# Write a Python program to get the number of keys in a dictionary."
   ]
  },
  {
   "cell_type": "code",
   "execution_count": 52,
   "id": "d4c5fd77-9656-43e5-8fe2-be7dca23eb6d",
   "metadata": {},
   "outputs": [],
   "source": [
    "# Write a Python program to find the largest and smallest values in a dictionary."
   ]
  },
  {
   "cell_type": "markdown",
   "id": "7830b8cc-9a90-45a2-8e4a-6f3c2b8b133b",
   "metadata": {},
   "source": [
    "## Functions (User-Defined, Arguments, Keyword Arguments, Return Values)"
   ]
  },
  {
   "cell_type": "code",
   "execution_count": 53,
   "id": "06a33fba-c6b1-4989-90f4-b647d1fe1627",
   "metadata": {},
   "outputs": [],
   "source": [
    "# Write a Python function that returns the square of a number."
   ]
  },
  {
   "cell_type": "code",
   "execution_count": 54,
   "id": "91d90a4a-7329-45db-893b-caed8450ba96",
   "metadata": {},
   "outputs": [],
   "source": [
    "# Write a Python function that accepts two parameters and returns their sum."
   ]
  },
  {
   "cell_type": "code",
   "execution_count": 55,
   "id": "dec2f9a5-90c5-478b-890b-0a506ecf45d3",
   "metadata": {},
   "outputs": [],
   "source": [
    "# Write a Python function to check if a given number is prime."
   ]
  },
  {
   "cell_type": "code",
   "execution_count": 56,
   "id": "56337441-68c3-45df-8733-a34cde0533a5",
   "metadata": {},
   "outputs": [],
   "source": [
    "# Write a Python function to calculate the factorial of a number using recursion."
   ]
  },
  {
   "cell_type": "code",
   "execution_count": 57,
   "id": "84a2d010-e7b2-409b-b1f4-99bf806bb77a",
   "metadata": {},
   "outputs": [],
   "source": [
    "# Write a Python function to calculate the power of a number using recursion."
   ]
  },
  {
   "cell_type": "code",
   "execution_count": 58,
   "id": "ec44911e-7820-46cc-96a3-4ca443888837",
   "metadata": {},
   "outputs": [],
   "source": [
    "# Write a Python function to accept a list and return its length without using the built-in len() function."
   ]
  },
  {
   "cell_type": "code",
   "execution_count": 59,
   "id": "fb4c08e1-34f3-487a-a1c6-77cd60fb4836",
   "metadata": {},
   "outputs": [],
   "source": [
    "# Write a Python function that accepts both positional and keyword arguments and prints the sum of positional arguments."
   ]
  },
  {
   "cell_type": "code",
   "execution_count": 60,
   "id": "f4ffc7a8-f579-461c-b507-4085a0477283",
   "metadata": {},
   "outputs": [],
   "source": [
    "# Write a Python function to find the maximum of two numbers using keyword arguments."
   ]
  },
  {
   "cell_type": "code",
   "execution_count": 61,
   "id": "0b00c4af-89e0-43e8-a991-1b684d2ce33f",
   "metadata": {},
   "outputs": [],
   "source": [
    "# Write a Python function that accepts a list of numbers and returns their product."
   ]
  },
  {
   "cell_type": "code",
   "execution_count": 62,
   "id": "9cd11703-5b48-44fe-af4e-ea906a2762c9",
   "metadata": {},
   "outputs": [],
   "source": [
    "# Write a Python function to check if a number is even or odd using the modulo operator."
   ]
  },
  {
   "cell_type": "code",
   "execution_count": 63,
   "id": "afbf262e-daed-40a9-827f-82fa60979610",
   "metadata": {},
   "outputs": [],
   "source": [
    "# Write a Python program to create a list of squares of numbers from 1 to 10 using list comprehension."
   ]
  },
  {
   "cell_type": "code",
   "execution_count": 64,
   "id": "7fff76d8-9ba8-4006-9be6-6f7350092d1c",
   "metadata": {},
   "outputs": [],
   "source": [
    "# Write a Python program to filter out all even numbers from a list using list comprehension."
   ]
  },
  {
   "cell_type": "code",
   "execution_count": 65,
   "id": "6ae9b8df-38f9-4fd7-bad1-aa7b07cc9271",
   "metadata": {},
   "outputs": [],
   "source": [
    "# Write a Python program to create a list of strings that are longer than 4 characters from a given list of words using list comprehension."
   ]
  },
  {
   "cell_type": "code",
   "execution_count": 66,
   "id": "f492c7d4-6ad3-48ab-9b61-232be02aecee",
   "metadata": {},
   "outputs": [],
   "source": [
    "# Write a Python program to create a list of all uppercase letters in a string using list comprehension."
   ]
  },
  {
   "cell_type": "code",
   "execution_count": 67,
   "id": "929a7f74-1762-4a2a-be23-bacf67ff4d8b",
   "metadata": {},
   "outputs": [],
   "source": [
    "# Write a Python program to generate the first n Fibonacci numbers using list comprehension."
   ]
  },
  {
   "cell_type": "code",
   "execution_count": 68,
   "id": "47188bbc-cf62-47bb-a14e-0582c8b5cdd9",
   "metadata": {},
   "outputs": [],
   "source": [
    "# Write a Python program to create a dictionary where keys are numbers and values are their squares using dictionary comprehension."
   ]
  },
  {
   "cell_type": "code",
   "execution_count": 69,
   "id": "3c4637d3-aa85-4b4c-acf3-953c10818bcb",
   "metadata": {},
   "outputs": [],
   "source": [
    "# Write a Python program to create a dictionary from two lists (one for keys and one for values) using dictionary comprehension."
   ]
  },
  {
   "cell_type": "code",
   "execution_count": 70,
   "id": "de817d6f-96e7-4346-839e-1ef0df539b6b",
   "metadata": {},
   "outputs": [],
   "source": [
    "# Write a Python program to create a dictionary of numbers from 1 to 5 and their cubes using dictionary comprehension."
   ]
  },
  {
   "cell_type": "code",
   "execution_count": 71,
   "id": "33695301-057e-49a6-9f80-a2f4e3af60ed",
   "metadata": {},
   "outputs": [],
   "source": [
    "# Write a Python program to square each element of a list using the map() function."
   ]
  },
  {
   "cell_type": "code",
   "execution_count": 72,
   "id": "6d4d17f3-c40f-4944-8656-c6416b600361",
   "metadata": {},
   "outputs": [],
   "source": [
    "# Write a Python program to filter all even numbers from a list using the filter() function."
   ]
  },
  {
   "cell_type": "code",
   "execution_count": 73,
   "id": "6634ba1f-9f81-475e-b7c4-422d102afb75",
   "metadata": {},
   "outputs": [],
   "source": [
    "# Write a Python program to use a lambda function to check if a number is divisible by both 3 and 5."
   ]
  },
  {
   "cell_type": "code",
   "execution_count": 74,
   "id": "0aac8430-5d77-439d-9a99-9598fadf989c",
   "metadata": {},
   "outputs": [],
   "source": [
    "# Write a Python program to multiply all numbers in a list by 2 using a lambda function inside map()."
   ]
  },
  {
   "cell_type": "code",
   "execution_count": 75,
   "id": "e4cd5ba8-c6ec-4f0d-8787-bf0a4b7a2e22",
   "metadata": {},
   "outputs": [],
   "source": [
    "# Write a Python program to remove all occurrences of a specific element from a list."
   ]
  },
  {
   "cell_type": "markdown",
   "id": "caba77c7-93db-4893-8f48-c7365ed5c585",
   "metadata": {},
   "source": [
    "**Note:** \n",
    "- All assignments must follow [PEP 8 – Style Guide for Python Code](https://peps.python.org/pep-0008/) guidelines.\n",
    "- You can add multiple solutions for each question. Create a new code cell next to the question and add it. Shortcut for creating cell : `Alt + Enter`"
   ]
  }
 ],
 "metadata": {
  "kernelspec": {
   "display_name": "Python 3 (ipykernel)",
   "language": "python",
   "name": "python3"
  },
  "language_info": {
   "codemirror_mode": {
    "name": "ipython",
    "version": 3
   },
   "file_extension": ".py",
   "mimetype": "text/x-python",
   "name": "python",
   "nbconvert_exporter": "python",
   "pygments_lexer": "ipython3",
   "version": "3.12.7"
  }
 },
 "nbformat": 4,
 "nbformat_minor": 5
}
